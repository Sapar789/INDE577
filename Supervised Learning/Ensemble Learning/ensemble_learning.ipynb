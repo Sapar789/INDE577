{
 "cells": [
  {
   "cell_type": "markdown",
   "id": "5d8d0dc8",
   "metadata": {},
   "source": [
    "# **Ensemble Learning**\n",
    "_____"
   ]
  },
  {
   "cell_type": "markdown",
   "id": "1dbaabfb",
   "metadata": {},
   "source": [
    "In this notebook, **Ensemble Learning** will be explored in various ways using the **Texas Weather** dataset in oder to achieve some understanding of this supervised machinle learning algorithm."
   ]
  },
  {
   "cell_type": "markdown",
   "id": "ced6ec15",
   "metadata": {},
   "source": [
    "### **Objectives :**\n",
    "\n",
    "- Comprehend the basic concept of Ensemble Learning.\n",
    "- Peform data exploration and visualization.\n",
    "- Explore popular ensemble techniques like **Bagging**, **Boosting**, and **Stacking**\n",
    "- Build Ensemble Learning model for for temperature level classification.\n",
    "\n",
    "______"
   ]
  },
  {
   "cell_type": "markdown",
   "id": "3e19f276",
   "metadata": {},
   "source": [
    "## **What is Ensemble Model ?**\n",
    "\n",
    " Ensemble learning is a machine learning technique that generates a more accurate, reliable, and broadly applicable result than any one model could create alone.\n",
    " Similar to gathering several opinions before making a critical choice, the theory is that while individual models may make mistakes, combining their outputs can eliminate errors and improve performance.\n",
    "\n",
    "____ "
   ]
  },
  {
   "cell_type": "markdown",
   "id": "c570cb28",
   "metadata": {},
   "source": [
    "## **Data Exploration**\n",
    "\n",
    "The Texas Weather dataset shall be the main and only dataset for this notebook. In this section various techniques shall be implemented to explore and gain some insights into the data."
   ]
  },
  {
   "cell_type": "markdown",
   "id": "33401844",
   "metadata": {},
   "source": [
    "### Import Required Libraries"
   ]
  },
  {
   "cell_type": "code",
   "execution_count": 50,
   "id": "2357344c",
   "metadata": {},
   "outputs": [],
   "source": [
    "# Import libraries\n",
    "\n",
    "import pandas as pd\n",
    "import numpy as np\n",
    "import matplotlib.pyplot as plt\n",
    "import seaborn as sb"
   ]
  },
  {
   "cell_type": "code",
   "execution_count": 51,
   "id": "a9ad6fae",
   "metadata": {},
   "outputs": [],
   "source": [
    "import sys\n",
    "import os\n",
    "\n",
    "# Get absolute path of the folder \n",
    "sl_folder = os.path.abspath(os.path.join(os.getcwd(), '..'))\n",
    "\n",
    "# Adding folder to sys.path\n",
    "sys.path.insert(0, sl_folder)\n",
    "\n",
    "# Import function\n",
    "from security import suppress_stderr\n"
   ]
  },
  {
   "cell_type": "markdown",
   "id": "b68ce4d0",
   "metadata": {},
   "source": [
    "### Load Data"
   ]
  },
  {
   "cell_type": "code",
   "execution_count": 52,
   "id": "9a129653",
   "metadata": {},
   "outputs": [
    {
     "data": {
      "text/html": [
       "<div>\n",
       "<style scoped>\n",
       "    .dataframe tbody tr th:only-of-type {\n",
       "        vertical-align: middle;\n",
       "    }\n",
       "\n",
       "    .dataframe tbody tr th {\n",
       "        vertical-align: top;\n",
       "    }\n",
       "\n",
       "    .dataframe thead th {\n",
       "        text-align: right;\n",
       "    }\n",
       "</style>\n",
       "<table border=\"1\" class=\"dataframe\">\n",
       "  <thead>\n",
       "    <tr style=\"text-align: right;\">\n",
       "      <th></th>\n",
       "      <th>date</th>\n",
       "      <th>max_temp</th>\n",
       "      <th>min_temp</th>\n",
       "      <th>humidity</th>\n",
       "      <th>wind_speed</th>\n",
       "      <th>precipitation</th>\n",
       "      <th>pressure</th>\n",
       "      <th>solar_radiation</th>\n",
       "    </tr>\n",
       "  </thead>\n",
       "  <tbody>\n",
       "    <tr>\n",
       "      <th>0</th>\n",
       "      <td>2019-01-01</td>\n",
       "      <td>87.5</td>\n",
       "      <td>59.5</td>\n",
       "      <td>67.2</td>\n",
       "      <td>8.3</td>\n",
       "      <td>0.07</td>\n",
       "      <td>1013.2</td>\n",
       "      <td>273.3</td>\n",
       "    </tr>\n",
       "    <tr>\n",
       "      <th>1</th>\n",
       "      <td>2019-01-02</td>\n",
       "      <td>84.7</td>\n",
       "      <td>72.4</td>\n",
       "      <td>75.4</td>\n",
       "      <td>10.8</td>\n",
       "      <td>0.14</td>\n",
       "      <td>1013.6</td>\n",
       "      <td>265.2</td>\n",
       "    </tr>\n",
       "    <tr>\n",
       "      <th>2</th>\n",
       "      <td>2019-01-03</td>\n",
       "      <td>88.9</td>\n",
       "      <td>65.2</td>\n",
       "      <td>79.2</td>\n",
       "      <td>12.2</td>\n",
       "      <td>0.07</td>\n",
       "      <td>1011.0</td>\n",
       "      <td>312.8</td>\n",
       "    </tr>\n",
       "    <tr>\n",
       "      <th>3</th>\n",
       "      <td>2019-01-04</td>\n",
       "      <td>93.6</td>\n",
       "      <td>66.1</td>\n",
       "      <td>75.2</td>\n",
       "      <td>13.0</td>\n",
       "      <td>0.05</td>\n",
       "      <td>1014.4</td>\n",
       "      <td>232.4</td>\n",
       "    </tr>\n",
       "    <tr>\n",
       "      <th>4</th>\n",
       "      <td>2019-01-05</td>\n",
       "      <td>85.2</td>\n",
       "      <td>69.9</td>\n",
       "      <td>70.0</td>\n",
       "      <td>10.2</td>\n",
       "      <td>0.05</td>\n",
       "      <td>1013.2</td>\n",
       "      <td>280.9</td>\n",
       "    </tr>\n",
       "  </tbody>\n",
       "</table>\n",
       "</div>"
      ],
      "text/plain": [
       "         date  max_temp  min_temp  humidity  wind_speed  precipitation  \\\n",
       "0  2019-01-01      87.5      59.5      67.2         8.3           0.07   \n",
       "1  2019-01-02      84.7      72.4      75.4        10.8           0.14   \n",
       "2  2019-01-03      88.9      65.2      79.2        12.2           0.07   \n",
       "3  2019-01-04      93.6      66.1      75.2        13.0           0.05   \n",
       "4  2019-01-05      85.2      69.9      70.0        10.2           0.05   \n",
       "\n",
       "   pressure  solar_radiation  \n",
       "0    1013.2            273.3  \n",
       "1    1013.6            265.2  \n",
       "2    1011.0            312.8  \n",
       "3    1014.4            232.4  \n",
       "4    1013.2            280.9  "
      ]
     },
     "execution_count": 52,
     "metadata": {},
     "output_type": "execute_result"
    }
   ],
   "source": [
    "df = pd.read_csv('../../weather_data.csv')\n",
    "\n",
    "df.head()"
   ]
  },
  {
   "cell_type": "markdown",
   "id": "d18843bb",
   "metadata": {},
   "source": [
    "### List the Columns in the Dataset"
   ]
  },
  {
   "cell_type": "code",
   "execution_count": 53,
   "id": "dcfe7c2c",
   "metadata": {},
   "outputs": [
    {
     "data": {
      "text/plain": [
       "Index(['date', 'max_temp', 'min_temp', 'humidity', 'wind_speed',\n",
       "       'precipitation', 'pressure', 'solar_radiation'],\n",
       "      dtype='object')"
      ]
     },
     "execution_count": 53,
     "metadata": {},
     "output_type": "execute_result"
    }
   ],
   "source": [
    "df.columns"
   ]
  },
  {
   "cell_type": "markdown",
   "id": "f6a2f055",
   "metadata": {},
   "source": [
    "### Number of data in each column"
   ]
  },
  {
   "cell_type": "code",
   "execution_count": 54,
   "id": "0ad581f5",
   "metadata": {},
   "outputs": [
    {
     "data": {
      "text/plain": [
       "date               1826\n",
       "max_temp           1826\n",
       "min_temp           1826\n",
       "humidity           1826\n",
       "wind_speed         1826\n",
       "precipitation      1826\n",
       "pressure           1826\n",
       "solar_radiation    1826\n",
       "dtype: int64"
      ]
     },
     "execution_count": 54,
     "metadata": {},
     "output_type": "execute_result"
    }
   ],
   "source": [
    "df.isnull().count()"
   ]
  },
  {
   "cell_type": "markdown",
   "id": "ca6f95c5",
   "metadata": {},
   "source": [
    "### Checking the Data Types in Each Column"
   ]
  },
  {
   "cell_type": "code",
   "execution_count": 55,
   "id": "0cfeff59",
   "metadata": {},
   "outputs": [
    {
     "name": "stdout",
     "output_type": "stream",
     "text": [
      "<class 'pandas.core.frame.DataFrame'>\n",
      "RangeIndex: 1826 entries, 0 to 1825\n",
      "Data columns (total 8 columns):\n",
      " #   Column           Non-Null Count  Dtype  \n",
      "---  ------           --------------  -----  \n",
      " 0   date             1826 non-null   object \n",
      " 1   max_temp         1826 non-null   float64\n",
      " 2   min_temp         1826 non-null   float64\n",
      " 3   humidity         1826 non-null   float64\n",
      " 4   wind_speed       1826 non-null   float64\n",
      " 5   precipitation    1826 non-null   float64\n",
      " 6   pressure         1826 non-null   float64\n",
      " 7   solar_radiation  1826 non-null   float64\n",
      "dtypes: float64(7), object(1)\n",
      "memory usage: 114.2+ KB\n"
     ]
    }
   ],
   "source": [
    "df.info()"
   ]
  },
  {
   "cell_type": "markdown",
   "id": "7703fb08",
   "metadata": {},
   "source": [
    "There is an object type in the dataset. This could be a problem later. Let's change it to an appropriate datetime format\n",
    "\n",
    "_____"
   ]
  },
  {
   "cell_type": "markdown",
   "id": "a75bedf5",
   "metadata": {},
   "source": [
    "## **Data Cleaning**\n",
    "\n",
    "This step is very important in order to make sure the data is in the best shape for analysis and model development"
   ]
  },
  {
   "cell_type": "markdown",
   "id": "9e3ae70d",
   "metadata": {},
   "source": [
    "### Correcting Data Type"
   ]
  },
  {
   "cell_type": "code",
   "execution_count": 56,
   "id": "8da48d9f",
   "metadata": {},
   "outputs": [
    {
     "name": "stdout",
     "output_type": "stream",
     "text": [
      "<class 'pandas.core.frame.DataFrame'>\n",
      "RangeIndex: 1826 entries, 0 to 1825\n",
      "Data columns (total 8 columns):\n",
      " #   Column           Non-Null Count  Dtype         \n",
      "---  ------           --------------  -----         \n",
      " 0   date             1826 non-null   datetime64[ns]\n",
      " 1   max_temp         1826 non-null   float64       \n",
      " 2   min_temp         1826 non-null   float64       \n",
      " 3   humidity         1826 non-null   float64       \n",
      " 4   wind_speed       1826 non-null   float64       \n",
      " 5   precipitation    1826 non-null   float64       \n",
      " 6   pressure         1826 non-null   float64       \n",
      " 7   solar_radiation  1826 non-null   float64       \n",
      "dtypes: datetime64[ns](1), float64(7)\n",
      "memory usage: 114.2 KB\n"
     ]
    }
   ],
   "source": [
    "df['date'] = pd.to_datetime(df['date'])\n",
    "\n",
    "df.info()"
   ]
  },
  {
   "cell_type": "markdown",
   "id": "18eb6716",
   "metadata": {},
   "source": [
    "### Checking for Null values"
   ]
  },
  {
   "cell_type": "code",
   "execution_count": 57,
   "id": "b664284b",
   "metadata": {},
   "outputs": [
    {
     "data": {
      "text/plain": [
       "date               0\n",
       "max_temp           0\n",
       "min_temp           0\n",
       "humidity           0\n",
       "wind_speed         0\n",
       "precipitation      0\n",
       "pressure           0\n",
       "solar_radiation    0\n",
       "dtype: int64"
      ]
     },
     "execution_count": 57,
     "metadata": {},
     "output_type": "execute_result"
    }
   ],
   "source": [
    "df.isnull().sum()"
   ]
  },
  {
   "cell_type": "markdown",
   "id": "7fb1577d",
   "metadata": {},
   "source": [
    "No null values present"
   ]
  },
  {
   "cell_type": "markdown",
   "id": "191f7678",
   "metadata": {},
   "source": [
    "### Checking for duplicates"
   ]
  },
  {
   "cell_type": "code",
   "execution_count": 58,
   "id": "44d72697",
   "metadata": {},
   "outputs": [
    {
     "name": "stdout",
     "output_type": "stream",
     "text": [
      "Duplicates in the dataset: 0\n"
     ]
    }
   ],
   "source": [
    "duplicates = df.duplicated().sum()\n",
    "print(f\"Duplicates in the dataset: {duplicates}\")"
   ]
  },
  {
   "cell_type": "markdown",
   "id": "740706d7",
   "metadata": {},
   "source": [
    "______"
   ]
  },
  {
   "cell_type": "markdown",
   "id": "3d19bfde",
   "metadata": {},
   "source": [
    "## **Feature Distribution and Data Visualisations**\n",
    "\n",
    "In this section, graphs and plots shall be used to analyze the data to gain deeper insights."
   ]
  },
  {
   "cell_type": "markdown",
   "id": "3f8a94b5",
   "metadata": {},
   "source": [
    "### **Class Distribution of Temperature Levels**\n",
    "\n",
    "The aim of this plot is to show how balanced temperature levels are accordind to the daily maximum and minimum temperature(both in degree Farenheit). In order to do this, first a column for temperature levels needs to exist,and it will be the average temperature of that day.\n"
   ]
  },
  {
   "cell_type": "code",
   "execution_count": 59,
   "id": "958eab75",
   "metadata": {},
   "outputs": [],
   "source": [
    "# daily average temperature\n",
    "df['avg_temp'] = (df['max_temp'] + df['min_temp']) / 2\n",
    "\n",
    "# Classify into temperature levels according to farrenheit scale\n",
    "def temp_category_f(temp):\n",
    "    if temp < 60:\n",
    "        return 'cold'\n",
    "    elif temp < 75:\n",
    "        return 'warm'\n",
    "    else:\n",
    "        return 'hot'\n",
    "\n",
    "df['temp_level'] = df['avg_temp'].apply(temp_category_f)"
   ]
  },
  {
   "cell_type": "markdown",
   "id": "4575bac7",
   "metadata": {},
   "source": [
    "The column for temp_level exists now. However let us see what kind of values are there."
   ]
  },
  {
   "cell_type": "code",
   "execution_count": 60,
   "id": "d0f96ed2",
   "metadata": {},
   "outputs": [
    {
     "data": {
      "text/html": [
       "<div>\n",
       "<style scoped>\n",
       "    .dataframe tbody tr th:only-of-type {\n",
       "        vertical-align: middle;\n",
       "    }\n",
       "\n",
       "    .dataframe tbody tr th {\n",
       "        vertical-align: top;\n",
       "    }\n",
       "\n",
       "    .dataframe thead th {\n",
       "        text-align: right;\n",
       "    }\n",
       "</style>\n",
       "<table border=\"1\" class=\"dataframe\">\n",
       "  <thead>\n",
       "    <tr style=\"text-align: right;\">\n",
       "      <th></th>\n",
       "      <th>date</th>\n",
       "      <th>max_temp</th>\n",
       "      <th>min_temp</th>\n",
       "      <th>humidity</th>\n",
       "      <th>wind_speed</th>\n",
       "      <th>precipitation</th>\n",
       "      <th>pressure</th>\n",
       "      <th>solar_radiation</th>\n",
       "      <th>avg_temp</th>\n",
       "      <th>temp_level</th>\n",
       "    </tr>\n",
       "  </thead>\n",
       "  <tbody>\n",
       "    <tr>\n",
       "      <th>0</th>\n",
       "      <td>2019-01-01</td>\n",
       "      <td>87.5</td>\n",
       "      <td>59.5</td>\n",
       "      <td>67.2</td>\n",
       "      <td>8.3</td>\n",
       "      <td>0.07</td>\n",
       "      <td>1013.2</td>\n",
       "      <td>273.3</td>\n",
       "      <td>73.50</td>\n",
       "      <td>warm</td>\n",
       "    </tr>\n",
       "    <tr>\n",
       "      <th>1</th>\n",
       "      <td>2019-01-02</td>\n",
       "      <td>84.7</td>\n",
       "      <td>72.4</td>\n",
       "      <td>75.4</td>\n",
       "      <td>10.8</td>\n",
       "      <td>0.14</td>\n",
       "      <td>1013.6</td>\n",
       "      <td>265.2</td>\n",
       "      <td>78.55</td>\n",
       "      <td>hot</td>\n",
       "    </tr>\n",
       "    <tr>\n",
       "      <th>2</th>\n",
       "      <td>2019-01-03</td>\n",
       "      <td>88.9</td>\n",
       "      <td>65.2</td>\n",
       "      <td>79.2</td>\n",
       "      <td>12.2</td>\n",
       "      <td>0.07</td>\n",
       "      <td>1011.0</td>\n",
       "      <td>312.8</td>\n",
       "      <td>77.05</td>\n",
       "      <td>hot</td>\n",
       "    </tr>\n",
       "    <tr>\n",
       "      <th>3</th>\n",
       "      <td>2019-01-04</td>\n",
       "      <td>93.6</td>\n",
       "      <td>66.1</td>\n",
       "      <td>75.2</td>\n",
       "      <td>13.0</td>\n",
       "      <td>0.05</td>\n",
       "      <td>1014.4</td>\n",
       "      <td>232.4</td>\n",
       "      <td>79.85</td>\n",
       "      <td>hot</td>\n",
       "    </tr>\n",
       "    <tr>\n",
       "      <th>4</th>\n",
       "      <td>2019-01-05</td>\n",
       "      <td>85.2</td>\n",
       "      <td>69.9</td>\n",
       "      <td>70.0</td>\n",
       "      <td>10.2</td>\n",
       "      <td>0.05</td>\n",
       "      <td>1013.2</td>\n",
       "      <td>280.9</td>\n",
       "      <td>77.55</td>\n",
       "      <td>hot</td>\n",
       "    </tr>\n",
       "  </tbody>\n",
       "</table>\n",
       "</div>"
      ],
      "text/plain": [
       "        date  max_temp  min_temp  humidity  wind_speed  precipitation  \\\n",
       "0 2019-01-01      87.5      59.5      67.2         8.3           0.07   \n",
       "1 2019-01-02      84.7      72.4      75.4        10.8           0.14   \n",
       "2 2019-01-03      88.9      65.2      79.2        12.2           0.07   \n",
       "3 2019-01-04      93.6      66.1      75.2        13.0           0.05   \n",
       "4 2019-01-05      85.2      69.9      70.0        10.2           0.05   \n",
       "\n",
       "   pressure  solar_radiation  avg_temp temp_level  \n",
       "0    1013.2            273.3     73.50       warm  \n",
       "1    1013.6            265.2     78.55        hot  \n",
       "2    1011.0            312.8     77.05        hot  \n",
       "3    1014.4            232.4     79.85        hot  \n",
       "4    1013.2            280.9     77.55        hot  "
      ]
     },
     "execution_count": 60,
     "metadata": {},
     "output_type": "execute_result"
    }
   ],
   "source": [
    "df.head()"
   ]
  },
  {
   "cell_type": "markdown",
   "id": "dad3f657",
   "metadata": {},
   "source": [
    "### The Distribution of Temperature Graph"
   ]
  },
  {
   "cell_type": "code",
   "execution_count": 61,
   "id": "d1c81554",
   "metadata": {},
   "outputs": [
    {
     "data": {
      "image/png": "[encoded data removed]",
      "text/plain": [
       "<Figure size 640x480 with 1 Axes>"
      ]
     },
     "metadata": {},
     "output_type": "display_data"
    }
   ],
   "source": [
    "with suppress_stderr():\n",
    "\n",
    "    # Ploting  distribution of temp_level categories\n",
    "    sb.countplot(data=df, x='temp_level', palette='coolwarm')\n",
    "\n",
    "    plt.title('Distribution of Temperature Categories')\n",
    "    plt.xlabel('Temperature Level')\n",
    "    plt.ylabel('Count')\n",
    "    plt.grid(axis='y', linestyle='--', alpha=0.5)\n",
    "    plt.show()\n"
   ]
  },
  {
   "cell_type": "markdown",
   "id": "cd22401e",
   "metadata": {},
   "source": [
    "**Interpretation of the Graph**\n",
    "\n",
    "- With a count of about 900, the hot category appears most frequently, which shows that high temperature levels are a lot in the dataset.\n",
    "\n",
    "- Roughly 450 cases, the warm group comes next, suggesting a fairly mild occurrence.\n",
    "\n",
    "- With about 400 occurrences, the cold category is the least frequent, suggesting that colder temperatures are less usual.\n",
    "\n",
    "Conclusion: The distribution implies that hot temperatures are substantially more common than both mild and cold temperatures, which could point to a seasonal trend in the environment.\n",
    "\n",
    "\n",
    "____"
   ]
  },
  {
   "cell_type": "markdown",
   "id": "48266caf",
   "metadata": {},
   "source": [
    "### **Humidity Distribution Across Temperature Categories**"
   ]
  },
  {
   "cell_type": "code",
   "execution_count": 62,
   "id": "aecaad87",
   "metadata": {},
   "outputs": [
    {
     "data": {
      "image/png": "[encoded data removed]",
      "text/plain": [
       "<Figure size 640x480 with 1 Axes>"
      ]
     },
     "metadata": {},
     "output_type": "display_data"
    }
   ],
   "source": [
    "with suppress_stderr():\n",
    "\n",
    "    sb.boxplot(data=df, x='temp_level', y='humidity', palette='Blues')\n",
    "    plt.title('Humidity Distribution Across Temperature Categories')\n",
    "    plt.xlabel('Temperature Level')\n",
    "    plt.ylabel('Humidity (%)')\n",
    "    plt.show()"
   ]
  },
  {
   "cell_type": "markdown",
   "id": "5cbd25e4",
   "metadata": {},
   "source": [
    "**Interpretation of Graph**\n",
    "\n",
    "- The majority of values lie between 72 and 75%, which is the median the middle value for all three categories.\n",
    "\n",
    "- All temperature groups show similar variability in humidity, as seen by the interquartile range (IQR), which is the spread of the middle 50% of data.\n",
    "\n",
    "- There are outliers, or data points that deviate greatly from the norm. There is one outlier above 85% in the warm group. There are multiple outliers in the hot group that are higher than 85%, suggesting that humidity varies more at higher temperatures.\n",
    "\n",
    "Cnonclusion: The main conclusion is that while humidity levels are generally constant across temperature ranges, severe humidity values, particularly at hot temperatures occur more frequently, with the hot temperature level showing the greatest fluctuation.\n",
    "____"
   ]
  },
  {
   "cell_type": "markdown",
   "id": "8219ac26",
   "metadata": {},
   "source": [
    "## **Temperature Level Classification**\n",
    "\n",
    "In this section an Ensemble Model will be built to peform a classification task of predicting temperature levels. It will be built incorporating the **The Ensemble Learning Pipelines** to develop this model. The math and logic behind each of them shall also be explored. This would provide a greater understanding to the topic and the code below."
   ]
  },
  {
   "cell_type": "markdown",
   "id": "91282a8b",
   "metadata": {},
   "source": [
    "### **The Ensemble Learning Pipelines**\n",
    "\n",
    "The Ensemble Learning Pipeline is the step-by-step process of preparing data, training multiple models, and combining their predictions to improve accuracy and robustness.\n",
    "It includes data preprocessing and model training like; **Bagging, Boosting or Stacking** and final evaluation using the common evaluation metrics like accuracy or F1-score. For this section, let us look at the Ensemble Learning pipeline according to this taskand code below that was used to achieve it.\n",
    "\n",
    "\n",
    "\n"
   ]
  },
  {
   "cell_type": "code",
   "execution_count": 63,
   "id": "923f9575",
   "metadata": {},
   "outputs": [],
   "source": [
    "from sklearn.model_selection import train_test_split\n",
    "from sklearn.preprocessing import LabelEncoder, StandardScaler\n",
    "from sklearn.metrics import classification_report\n",
    "from sklearn.ensemble import RandomForestClassifier, GradientBoostingClassifier, StackingClassifier\n",
    "from sklearn.linear_model import LogisticRegression\n",
    "from sklearn.neighbors import KNeighborsClassifier\n",
    "\n",
    "\n",
    "# Compute average temp\n",
    "df['avg_temp'] = (df['max_temp'] + df['min_temp']) / 2\n",
    "\n",
    "# Categorize temperature levels \n",
    "def temp_category_f(temp):\n",
    "    if temp < 60:\n",
    "        return 'cold'\n",
    "    elif temp < 75:\n",
    "        return 'warm'\n",
    "    else:\n",
    "        return 'hot'\n",
    "\n",
    "df['temp_level'] = df['avg_temp'].apply(temp_category_f)\n",
    "\n",
    "# Encode labels\n",
    "le = LabelEncoder()\n",
    "df['temp_label'] = le.fit_transform(df['temp_level'])\n",
    "\n",
    "# Select features\n",
    "features = ['humidity', 'wind_speed', 'precipitation', 'pressure', 'solar_radiation']\n",
    "X = df[features]\n",
    "y = df['temp_label']\n",
    "\n",
    "# Scale features\n",
    "scaler = StandardScaler()\n",
    "X_scaled = scaler.fit_transform(X)\n",
    "\n",
    "# Split\n",
    "X_train, X_test, y_train, y_test = train_test_split(X_scaled, y, test_size=0.2, random_state=42)\n"
   ]
  },
  {
   "attachments": {
    "image-2.png": {
     "image/png": "[encoded data removed]"
    }
   },
   "cell_type": "markdown",
   "id": "2c08c450",
   "metadata": {},
   "source": [
    "#### **Bagging (with Random Forest Classifier)**\n",
    "\n",
    "Bagging trains multiple models on random subsets of the dataset with replacement, then it votes on their predictions. It is excellent at lowering variance, which increases the stability of forecasts.\n",
    "\n",
    "#### What Random Forest Does:\n",
    "\n",
    "- It builds many decision trees using bagged samples.\n",
    "\n",
    "- Each tree votes on the final prediction.\n",
    "\n",
    "\n",
    "#### The Math Behind Bagging (according to the code)\n",
    "\n",
    "The idea is to train many models on different random subsets of data (with replacement), then average or vote on predictions.\n",
    "\n",
    "**Here is the mathematical expression for the classification :**\n",
    "\n",
    "![image-2.png](attachment:image-2.png)\n",
    "\n",
    "Where \n",
    "𝑀\n",
    "𝑖\n",
    "(\n",
    "𝑥\n",
    ")\n",
    "M \n",
    "i\n",
    "​\n",
    " (x) is the prediction from model \n",
    "𝑖\n",
    "i on input \n",
    "𝑥\n",
    "x\n",
    "\n",
    "**Why it Works:**\n",
    "\n",
    "- It reduces variance.\n",
    "\n",
    "- It improves generalization.\n",
    "\n"
   ]
  },
  {
   "cell_type": "code",
   "execution_count": 64,
   "id": "cb089e59",
   "metadata": {},
   "outputs": [
    {
     "name": "stdout",
     "output_type": "stream",
     "text": [
      " Random Forest (Bagging):\n",
      "              precision    recall  f1-score   support\n",
      "\n",
      "        cold       0.72      0.77      0.75        84\n",
      "         hot       0.94      0.93      0.94       181\n",
      "        warm       0.68      0.65      0.67       101\n",
      "\n",
      "    accuracy                           0.82       366\n",
      "   macro avg       0.78      0.79      0.78       366\n",
      "weighted avg       0.82      0.82      0.82       366\n",
      "\n"
     ]
    }
   ],
   "source": [
    "rf_model = RandomForestClassifier(n_estimators=100, random_state=42)\n",
    "rf_model.fit(X_train, y_train)\n",
    "rf_preds = rf_model.predict(X_test)\n",
    "\n",
    "print(\" Random Forest (Bagging):\")\n",
    "print(classification_report(y_test, rf_preds, target_names=le.classes_))\n"
   ]
  },
  {
   "attachments": {
    "image-2.png": {
     "image/png": "[encoded data removed]"
    }
   },
   "cell_type": "markdown",
   "id": "b7874c68",
   "metadata": {},
   "source": [
    "#### **Boosting (with Gradient Boosting Classifier)**\n",
    "\n",
    "Boosting builds models in a step-by-step fashion, with each new model concentrating on correcting the errors of its predecessors. It all comes down to lessening bias and assisting the model in learning even the most challenging situations. On their own, each learner is not strong enough but when they work together, they become much stronger.\n",
    "\n",
    "#### What Gradient Boosting Does:\n",
    "\n",
    "- The first model makes a prediction.\n",
    "\n",
    "- The second model predicts what the first got wrong (which is the residual).\n",
    "\n",
    "- The third model predicts what both got wrong, and it goes on as so.\n",
    "\n",
    "These are added together (not voted) to form the final output.\n",
    "\n",
    "#### The Math Behind Boosting (according to the code)\n",
    "\n",
    "The idea is to train models step-by-step, where each new model tries to fix the errors of the previous one.\n",
    "\n",
    "**Here is the mathematical expression :**\n",
    "\n",
    "![image-2.png](attachment:image-2.png)\n",
    "\n",
    "Whereby :\n",
    "\n",
    "- 𝐹\n",
    "𝑚\n",
    "(\n",
    "𝑥\n",
    ")\n",
    "F \n",
    "m\n",
    "​\n",
    " (x): the ensemble model at iteration \n",
    "𝑚\n",
    "m\n",
    " \n",
    "- ℎ\n",
    "𝑚\n",
    "(\n",
    "𝑥\n",
    ")\n",
    "h \n",
    "m\n",
    "​\n",
    " (x): a weak model trained to predict the residuals (errors)\n",
    "\n",
    "-  𝛼\n",
    "α: learning rate\n",
    "\n",
    "**Why it Works:**\n",
    "\n",
    "- It focuses on the hardest cases step-by-step to reduce bias\n",
    "\n",
    "\n",
    "\n"
   ]
  },
  {
   "cell_type": "code",
   "execution_count": 65,
   "id": "4cf1e19b",
   "metadata": {},
   "outputs": [
    {
     "name": "stdout",
     "output_type": "stream",
     "text": [
      " Gradient Boosting:\n",
      "              precision    recall  f1-score   support\n",
      "\n",
      "        cold       0.68      0.71      0.70        84\n",
      "         hot       0.95      0.94      0.95       181\n",
      "        warm       0.65      0.63      0.64       101\n",
      "\n",
      "    accuracy                           0.81       366\n",
      "   macro avg       0.76      0.76      0.76       366\n",
      "weighted avg       0.81      0.81      0.81       366\n",
      "\n"
     ]
    }
   ],
   "source": [
    "gb_model = GradientBoostingClassifier(n_estimators=100, learning_rate=0.1, random_state=42)\n",
    "gb_model.fit(X_train, y_train)\n",
    "gb_preds = gb_model.predict(X_test)\n",
    "\n",
    "print(\" Gradient Boosting:\")\n",
    "print(classification_report(y_test, gb_preds, target_names=le.classes_))\n"
   ]
  },
  {
   "attachments": {
    "image.png": {
     "image/png": "[encoded data removed]"
    }
   },
   "cell_type": "markdown",
   "id": "eb159118",
   "metadata": {},
   "source": [
    "#### **Stacking (with Stacking  Classifier)**\n",
    "\n",
    "Stacking combines multiple different models (called base learners) and uses a meta-model to learn how to best combine their outputs. The base learners make independent predictions.Those predictions become features for the meta-model. The met-model then learns when to trust model.\n",
    "\n",
    "\n",
    "#### How it is Used :\n",
    "\n",
    "- Base learners make independent predictions.\n",
    "\n",
    "- The meta-model which in this case is a GradientBoostingClassifier\n",
    "\n",
    "For example; It learns that Random Forest might be better at identifying \"hot\" while Logistic Regression is better at handling \"cold\" — and cleverly combines the two.\n",
    "\n",
    "#### The Math Behind Stacking (according to the code)\n",
    "\n",
    "Let's say;\n",
    "\n",
    "- h \n",
    "1\n",
    "​\n",
    " (x),h \n",
    "2\n",
    "​\n",
    " (x),...,h \n",
    "k\n",
    "​\n",
    " (x): predictions from base models\n",
    "\n",
    "![image.png](attachment:image.png) \n",
    "\n",
    "Where \n",
    "𝑔\n",
    "g is the meta-model (like GradientBoosting or LogisticRegression)\n",
    "\n",
    "The idea is to train several models (base learners) in parallel and use another model (meta-learner) to learn how to combine them.\n",
    "\n",
    "\n",
    "\n",
    "**Why it Works:**\n",
    "\n",
    "- It learns to weigh each model’s strength based on the input\n",
    "\n",
    "\n",
    "\n"
   ]
  },
  {
   "cell_type": "code",
   "execution_count": 66,
   "id": "59870f26",
   "metadata": {},
   "outputs": [
    {
     "name": "stdout",
     "output_type": "stream",
     "text": [
      " Stacking Ensemble:\n",
      "              precision    recall  f1-score   support\n",
      "\n",
      "        cold       0.73      0.76      0.74        84\n",
      "         hot       0.92      0.93      0.93       181\n",
      "        warm       0.67      0.63      0.65       101\n",
      "\n",
      "    accuracy                           0.81       366\n",
      "   macro avg       0.77      0.78      0.78       366\n",
      "weighted avg       0.81      0.81      0.81       366\n",
      "\n"
     ]
    }
   ],
   "source": [
    "base_learners = [\n",
    "    ('rf', RandomForestClassifier(n_estimators=100, random_state=42)),\n",
    "    ('lr', LogisticRegression(max_iter=1000, random_state=42)),\n",
    "    ('knn', KNeighborsClassifier(n_neighbors=5))\n",
    "]\n",
    "\n",
    "meta_model = GradientBoostingClassifier(n_estimators=100, random_state=42)\n",
    "\n",
    "stack_model = StackingClassifier(estimators=base_learners, final_estimator=meta_model)\n",
    "stack_model.fit(X_train, y_train)\n",
    "stack_preds = stack_model.predict(X_test)\n",
    "\n",
    "print(\" Stacking Ensemble:\")\n",
    "print(classification_report(y_test, stack_preds, target_names=le.classes_))\n"
   ]
  },
  {
   "cell_type": "markdown",
   "id": "6cc8c34e",
   "metadata": {},
   "source": [
    "### **Visualisation of Peformance Comparison**\n",
    "\n",
    "In order to get a clearer understanding of the performance of the models and their accuracies, Cross Validation is used to derive the accuracy accross folds for each model. This is plotted on to a bar chart."
   ]
  },
  {
   "cell_type": "code",
   "execution_count": 67,
   "id": "779de222",
   "metadata": {},
   "outputs": [],
   "source": [
    "from sklearn.model_selection import cross_val_score\n",
    "import matplotlib.pyplot as plt\n",
    "\n",
    "# Define models with names\n",
    "models = {\n",
    "    'Random Forest': RandomForestClassifier(n_estimators=100, random_state=42),\n",
    "    'Gradient Boosting': GradientBoostingClassifier(n_estimators=100, random_state=42),\n",
    "    'Stacking Ensemble': StackingClassifier(\n",
    "        estimators=[\n",
    "            ('rf', RandomForestClassifier(n_estimators=100, random_state=42)),\n",
    "            ('lr', LogisticRegression(max_iter=1000, random_state=42)),\n",
    "            ('knn', KNeighborsClassifier(n_neighbors=5))\n",
    "        ],\n",
    "        final_estimator=GradientBoostingClassifier(n_estimators=100, random_state=42)\n",
    "    )\n",
    "}\n",
    "\n",
    "# Collect cross-validated scores\n",
    "cv_scores = {}\n",
    "for name, model in models.items():\n",
    "    scores = cross_val_score(model, X_scaled, y, cv=5, scoring='accuracy')\n",
    "    cv_scores[name] = scores.mean()\n"
   ]
  },
  {
   "cell_type": "code",
   "execution_count": 68,
   "id": "432a1470",
   "metadata": {},
   "outputs": [
    {
     "data": {
      "image/png": "[encoded data removed]",
      "text/plain": [
       "<Figure size 800x500 with 1 Axes>"
      ]
     },
     "metadata": {},
     "output_type": "display_data"
    }
   ],
   "source": [
    "# Plot model comparison\n",
    "plt.figure(figsize=(8, 5))\n",
    "plt.bar(cv_scores.keys(), cv_scores.values(), color=['forestgreen', 'orange', 'purple'])\n",
    "plt.ylabel('Cross-Validated Accuracy')\n",
    "plt.title('Ensemble Model Comparison (5-Fold CV)')\n",
    "plt.ylim(0.5, 1.0)\n",
    "plt.grid(axis='y', linestyle='--', alpha=0.7)\n",
    "plt.xticks(rotation=15)\n",
    "plt.tight_layout()\n",
    "plt.show()\n"
   ]
  },
  {
   "cell_type": "markdown",
   "id": "0cf77f8d",
   "metadata": {},
   "source": [
    "**Interpretation of the Graph**\n",
    "\n",
    "- The accuracy values of Random Forest (green), Gradient Boosting (orange), and Stacking Ensemble (purple) are comparable, averaging about 0.8.\n",
    "\n",
    "- In comparison to the other models, the Stacking Ensemble model seems to be a little more accurate.\n",
    "\n",
    "All three models function reasonably well because the accuracy levels are rather near, thus depending on your particular use case, any of them might be feasible.\n",
    "\n",
    "_______"
   ]
  },
  {
   "cell_type": "markdown",
   "id": "bdb6d8aa",
   "metadata": {},
   "source": [
    "## **Conclusion and Final Notes**\n",
    "\n",
    "In this notebook, an Ensemble Learning model was built with Bagging (Random Forest), Boosting (Gradient Boosting), and Stacking, to categorize temperature levels (cold, warm, and hot) and using Texas meteorological data, we investigated Temperature levels.  Each ensemble method's mathematical intuition was investigated, Scikit-learn was used to implement it, and cross-validation and visualization were used to compare its performance.\n",
    "\n",
    "### Final Notes\n",
    "\n",
    "- The dataset was preprocessed to create a new column called avg_temp feature and categorized into temperature levels, with scaling applied to numerical features.\n",
    "\n",
    "- A box plot analysis showed that while humidity levels are generally consistent, high humidity outliers are more frequent during hot days which supports the complexity of the classification task.\n",
    "\n",
    "- Three ensemble approaches were implemented:\n",
    "\n",
    "    - Random Forest (Bagging): Reduced variance by training multiple trees on bootstrapped samples.\n",
    "\n",
    "    - Gradient Boosting: Reduced bias by sequentially correcting errors made by prior models.\n",
    "\n",
    "    - Stacking Ensemble: Combined predictions from diverse models for improved performance.\n",
    "\n"
   ]
  }
 ],
 "metadata": {
  "kernelspec": {
   "display_name": ".venv",
   "language": "python",
   "name": "python3"
  },
  "language_info": {
   "codemirror_mode": {
    "name": "ipython",
    "version": 3
   },
   "file_extension": ".py",
   "mimetype": "text/x-python",
   "name": "python",
   "nbconvert_exporter": "python",
   "pygments_lexer": "ipython3",
   "version": "3.11.0"
  }
 },
 "nbformat": 4,
 "nbformat_minor": 5
}
