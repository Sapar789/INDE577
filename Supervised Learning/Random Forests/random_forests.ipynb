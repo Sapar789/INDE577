{
 "cells": [
  {
   "cell_type": "markdown",
   "id": "60945c7f",
   "metadata": {},
   "source": [
    "# **Random Forest**\n",
    "______"
   ]
  },
  {
   "cell_type": "markdown",
   "id": "28ce6ef7",
   "metadata": {},
   "source": [
    "Random Forest is a supervised learning model that can be applied to regression and classification. It is an ensemble of decision trees, which means that numerous trees are constructed and their outputs are combined. In this notebook, Random Forest shall be applied to avhieve a supervised model task\n",
    "\n",
    "## **Objectives of this Notebook**\n",
    "- Comprehend the basic concept of Random Forest.\n",
    "- Peform data exploration and visualization\n",
    "- Explore feature relationships with Random Forest model\n",
    "- Build Random Forest Model for for Rainfall prediction\n",
    "\n",
    "______"
   ]
  },
  {
   "cell_type": "markdown",
   "id": "bbdce4a0",
   "metadata": {},
   "source": [
    "## **Data Exploration**"
   ]
  },
  {
   "cell_type": "markdown",
   "id": "8640befa",
   "metadata": {},
   "source": [
    "### Import Libraries"
   ]
  },
  {
   "cell_type": "code",
   "execution_count": 1,
   "id": "0b0d0c88",
   "metadata": {},
   "outputs": [],
   "source": [
    "# Import Libraries\n",
    "\n",
    "import pandas as pd\n",
    "import numpy as np\n",
    "import matplotlib.pyplot as plt\n",
    "import seaborn as sb"
   ]
  },
  {
   "cell_type": "markdown",
   "id": "597bc826",
   "metadata": {},
   "source": [
    "### Load Data"
   ]
  },
  {
   "cell_type": "code",
   "execution_count": 2,
   "id": "622e29df",
   "metadata": {},
   "outputs": [
    {
     "data": {
      "text/html": [
       "<div>\n",
       "<style scoped>\n",
       "    .dataframe tbody tr th:only-of-type {\n",
       "        vertical-align: middle;\n",
       "    }\n",
       "\n",
       "    .dataframe tbody tr th {\n",
       "        vertical-align: top;\n",
       "    }\n",
       "\n",
       "    .dataframe thead th {\n",
       "        text-align: right;\n",
       "    }\n",
       "</style>\n",
       "<table border=\"1\" class=\"dataframe\">\n",
       "  <thead>\n",
       "    <tr style=\"text-align: right;\">\n",
       "      <th></th>\n",
       "      <th>date</th>\n",
       "      <th>max_temp</th>\n",
       "      <th>min_temp</th>\n",
       "      <th>humidity</th>\n",
       "      <th>wind_speed</th>\n",
       "      <th>precipitation</th>\n",
       "      <th>pressure</th>\n",
       "      <th>solar_radiation</th>\n",
       "    </tr>\n",
       "  </thead>\n",
       "  <tbody>\n",
       "    <tr>\n",
       "      <th>0</th>\n",
       "      <td>2019-01-01</td>\n",
       "      <td>87.5</td>\n",
       "      <td>59.5</td>\n",
       "      <td>67.2</td>\n",
       "      <td>8.3</td>\n",
       "      <td>0.07</td>\n",
       "      <td>1013.2</td>\n",
       "      <td>273.3</td>\n",
       "    </tr>\n",
       "    <tr>\n",
       "      <th>1</th>\n",
       "      <td>2019-01-02</td>\n",
       "      <td>84.7</td>\n",
       "      <td>72.4</td>\n",
       "      <td>75.4</td>\n",
       "      <td>10.8</td>\n",
       "      <td>0.14</td>\n",
       "      <td>1013.6</td>\n",
       "      <td>265.2</td>\n",
       "    </tr>\n",
       "    <tr>\n",
       "      <th>2</th>\n",
       "      <td>2019-01-03</td>\n",
       "      <td>88.9</td>\n",
       "      <td>65.2</td>\n",
       "      <td>79.2</td>\n",
       "      <td>12.2</td>\n",
       "      <td>0.07</td>\n",
       "      <td>1011.0</td>\n",
       "      <td>312.8</td>\n",
       "    </tr>\n",
       "    <tr>\n",
       "      <th>3</th>\n",
       "      <td>2019-01-04</td>\n",
       "      <td>93.6</td>\n",
       "      <td>66.1</td>\n",
       "      <td>75.2</td>\n",
       "      <td>13.0</td>\n",
       "      <td>0.05</td>\n",
       "      <td>1014.4</td>\n",
       "      <td>232.4</td>\n",
       "    </tr>\n",
       "    <tr>\n",
       "      <th>4</th>\n",
       "      <td>2019-01-05</td>\n",
       "      <td>85.2</td>\n",
       "      <td>69.9</td>\n",
       "      <td>70.0</td>\n",
       "      <td>10.2</td>\n",
       "      <td>0.05</td>\n",
       "      <td>1013.2</td>\n",
       "      <td>280.9</td>\n",
       "    </tr>\n",
       "  </tbody>\n",
       "</table>\n",
       "</div>"
      ],
      "text/plain": [
       "         date  max_temp  min_temp  humidity  wind_speed  precipitation  \\\n",
       "0  2019-01-01      87.5      59.5      67.2         8.3           0.07   \n",
       "1  2019-01-02      84.7      72.4      75.4        10.8           0.14   \n",
       "2  2019-01-03      88.9      65.2      79.2        12.2           0.07   \n",
       "3  2019-01-04      93.6      66.1      75.2        13.0           0.05   \n",
       "4  2019-01-05      85.2      69.9      70.0        10.2           0.05   \n",
       "\n",
       "   pressure  solar_radiation  \n",
       "0    1013.2            273.3  \n",
       "1    1013.6            265.2  \n",
       "2    1011.0            312.8  \n",
       "3    1014.4            232.4  \n",
       "4    1013.2            280.9  "
      ]
     },
     "execution_count": 2,
     "metadata": {},
     "output_type": "execute_result"
    }
   ],
   "source": [
    "df = pd.read_csv('../../weather_data.csv')\n",
    "\n",
    "df.head()"
   ]
  },
  {
   "cell_type": "markdown",
   "id": "5123b82a",
   "metadata": {},
   "source": [
    "### Listing the columns in the Dataset\n"
   ]
  },
  {
   "cell_type": "code",
   "execution_count": 3,
   "id": "f838827f",
   "metadata": {},
   "outputs": [
    {
     "data": {
      "text/plain": [
       "Index(['date', 'max_temp', 'min_temp', 'humidity', 'wind_speed',\n",
       "       'precipitation', 'pressure', 'solar_radiation'],\n",
       "      dtype='object')"
      ]
     },
     "execution_count": 3,
     "metadata": {},
     "output_type": "execute_result"
    }
   ],
   "source": [
    "df.columns"
   ]
  },
  {
   "cell_type": "markdown",
   "id": "1468d1a7",
   "metadata": {},
   "source": [
    "### Checking the Data Per Column"
   ]
  },
  {
   "cell_type": "code",
   "execution_count": 4,
   "id": "e8ccff4a",
   "metadata": {},
   "outputs": [
    {
     "data": {
      "text/plain": [
       "date               1826\n",
       "max_temp           1826\n",
       "min_temp           1826\n",
       "humidity           1826\n",
       "wind_speed         1826\n",
       "precipitation      1826\n",
       "pressure           1826\n",
       "solar_radiation    1826\n",
       "dtype: int64"
      ]
     },
     "execution_count": 4,
     "metadata": {},
     "output_type": "execute_result"
    }
   ],
   "source": [
    "df.isnull().count()"
   ]
  },
  {
   "cell_type": "markdown",
   "id": "b0362c03",
   "metadata": {},
   "source": [
    "### Checking the Data types in each Column"
   ]
  },
  {
   "cell_type": "code",
   "execution_count": 5,
   "id": "97bba53d",
   "metadata": {},
   "outputs": [
    {
     "name": "stdout",
     "output_type": "stream",
     "text": [
      "<class 'pandas.core.frame.DataFrame'>\n",
      "RangeIndex: 1826 entries, 0 to 1825\n",
      "Data columns (total 8 columns):\n",
      " #   Column           Non-Null Count  Dtype  \n",
      "---  ------           --------------  -----  \n",
      " 0   date             1826 non-null   object \n",
      " 1   max_temp         1826 non-null   float64\n",
      " 2   min_temp         1826 non-null   float64\n",
      " 3   humidity         1826 non-null   float64\n",
      " 4   wind_speed       1826 non-null   float64\n",
      " 5   precipitation    1826 non-null   float64\n",
      " 6   pressure         1826 non-null   float64\n",
      " 7   solar_radiation  1826 non-null   float64\n",
      "dtypes: float64(7), object(1)\n",
      "memory usage: 114.2+ KB\n"
     ]
    }
   ],
   "source": [
    "df.info()"
   ]
  },
  {
   "cell_type": "markdown",
   "id": "0bae17ec",
   "metadata": {},
   "source": [
    "______"
   ]
  },
  {
   "cell_type": "markdown",
   "id": "8f71f819",
   "metadata": {},
   "source": [
    "## **Data Cleaning**"
   ]
  },
  {
   "cell_type": "markdown",
   "id": "02ea9423",
   "metadata": {},
   "source": [
    "We would have to do a bit of cleaning to ensure the data is in the appropriate shape for our model. "
   ]
  },
  {
   "cell_type": "markdown",
   "id": "c4ce7544",
   "metadata": {},
   "source": [
    "### Correcting the data types of all the columns\n",
    "\n",
    "The data column data type is not favourable for our model development"
   ]
  },
  {
   "cell_type": "code",
   "execution_count": 6,
   "id": "bc31b183",
   "metadata": {},
   "outputs": [
    {
     "name": "stdout",
     "output_type": "stream",
     "text": [
      "<class 'pandas.core.frame.DataFrame'>\n",
      "RangeIndex: 1826 entries, 0 to 1825\n",
      "Data columns (total 8 columns):\n",
      " #   Column           Non-Null Count  Dtype         \n",
      "---  ------           --------------  -----         \n",
      " 0   date             1826 non-null   datetime64[ns]\n",
      " 1   max_temp         1826 non-null   float64       \n",
      " 2   min_temp         1826 non-null   float64       \n",
      " 3   humidity         1826 non-null   float64       \n",
      " 4   wind_speed       1826 non-null   float64       \n",
      " 5   precipitation    1826 non-null   float64       \n",
      " 6   pressure         1826 non-null   float64       \n",
      " 7   solar_radiation  1826 non-null   float64       \n",
      "dtypes: datetime64[ns](1), float64(7)\n",
      "memory usage: 114.2 KB\n"
     ]
    }
   ],
   "source": [
    "# Changing the data type and ensuring the changes\n",
    "\n",
    "df['date'] = pd.to_datetime(df['date'])\n",
    "\n",
    "df.info()"
   ]
  },
  {
   "cell_type": "markdown",
   "id": "4255d7d4",
   "metadata": {},
   "source": [
    "### Checking for Duplicates"
   ]
  },
  {
   "cell_type": "code",
   "execution_count": 7,
   "id": "bf450beb",
   "metadata": {},
   "outputs": [
    {
     "name": "stdout",
     "output_type": "stream",
     "text": [
      "Duplicates in the dataset: 0\n"
     ]
    }
   ],
   "source": [
    "# Making dure there are no dulicates\n",
    "\n",
    "duplicates = df.duplicated().sum()\n",
    "print(f\"Duplicates in the dataset: {duplicates}\")"
   ]
  },
  {
   "cell_type": "markdown",
   "id": "83571470",
   "metadata": {},
   "source": [
    "### Checking for Missing Values"
   ]
  },
  {
   "cell_type": "code",
   "execution_count": 8,
   "id": "720b24ed",
   "metadata": {},
   "outputs": [
    {
     "data": {
      "text/plain": [
       "date               0\n",
       "max_temp           0\n",
       "min_temp           0\n",
       "humidity           0\n",
       "wind_speed         0\n",
       "precipitation      0\n",
       "pressure           0\n",
       "solar_radiation    0\n",
       "dtype: int64"
      ]
     },
     "execution_count": 8,
     "metadata": {},
     "output_type": "execute_result"
    }
   ],
   "source": [
    "# Checking number of null values per column\n",
    "df.isnull().sum()"
   ]
  },
  {
   "cell_type": "markdown",
   "id": "e1810402",
   "metadata": {},
   "source": [
    "_______"
   ]
  },
  {
   "cell_type": "markdown",
   "id": "1fb8bc87",
   "metadata": {},
   "source": [
    "## **Feature Distribution**\n",
    "\n",
    "In this section, some graphs shall be used to explore the realtionships between columns and features of the dataset that are relevant to our Rainfall prediction model"
   ]
  },
  {
   "cell_type": "markdown",
   "id": "fb21fe15",
   "metadata": {},
   "source": [
    "### **Distribution Plot of Precipitation**\n",
    "\n",
    "The **histogram** plot will be a perfect graph to display the distribution on the dataset in precipiation. This is relevant to know as this will be a target variable in the model prediction"
   ]
  },
  {
   "cell_type": "code",
   "execution_count": 9,
   "id": "73c8096f",
   "metadata": {},
   "outputs": [
    {
     "data": {
      "text/plain": [
       "<Axes: xlabel='precipitation', ylabel='Count'>"
      ]
     },
     "execution_count": 9,
     "metadata": {},
     "output_type": "execute_result"
    },
    {
     "data": {
      "image/png": "[encoded data removed]",
      "text/plain": [
       "<Figure size 640x480 with 1 Axes>"
      ]
     },
     "metadata": {},
     "output_type": "display_data"
    }
   ],
   "source": [
    "sb.histplot(df['precipitation'], bins=30, kde=True)"
   ]
  },
  {
   "cell_type": "markdown",
   "id": "70cde014",
   "metadata": {},
   "source": [
    "**Interpretation on Graph**\n",
    "\n",
    "The bars show that the frequency decreases as the precipitation value rises, with most of data points having low precipitation values near zero. The smooth curve overlaying the bars represents a probability density function  estimate, which provides a clearer visualization of the distribution pattern.\n",
    "_____"
   ]
  },
  {
   "cell_type": "markdown",
   "id": "b6b9fa1f",
   "metadata": {},
   "source": [
    "### **Box Plot of Humidity versus Rainfall**"
   ]
  },
  {
   "cell_type": "code",
   "execution_count": 10,
   "id": "6f95bad8",
   "metadata": {},
   "outputs": [
    {
     "data": {
      "text/plain": [
       "<Axes: xlabel='rain', ylabel='humidity'>"
      ]
     },
     "execution_count": 10,
     "metadata": {},
     "output_type": "execute_result"
    },
    {
     "data": {
      "image/png": "[encoded data removed]",
      "text/plain": [
       "<Figure size 640x480 with 1 Axes>"
      ]
     },
     "metadata": {},
     "output_type": "display_data"
    }
   ],
   "source": [
    "# Let rain be equall to percipitation for the sake of the tasks to identify rain and no rain\n",
    "\n",
    "df['rain'] = (df['precipitation'] > 0).astype(int)\n",
    "sb.boxplot(x='rain', y='humidity', data=df)"
   ]
  },
  {
   "cell_type": "markdown",
   "id": "adbd96e7",
   "metadata": {},
   "source": [
    "**Interpretation on Graph**\n",
    "\n",
    "The boxes show the interquartile range (IQR). Inside each box is a horizontal line that indicates the median.\n",
    "Outside of the upper and lower quartiles, whiskers can be seen to show the existence of fluctuation.\n",
    "The exists some outliers in the dataset also.\n",
    "____"
   ]
  },
  {
   "cell_type": "markdown",
   "id": "2192ab33",
   "metadata": {},
   "source": [
    "## **Random Forest Model for Rainfall Prediction**\n",
    "\n",
    "In this section a custom random forest model shall be built . The math and logic behind this supervised learning model shall be explored and used to predict rain fall or no rainfall with the help of the Texas Weather dataset."
   ]
  },
  {
   "attachments": {
    "image-2.png": {
     "image/png": "[encoded data removed]"
    },
    "image-3.png": {
     "image/png": "[encoded data removed]"
    },
    "image.png": {
     "image/png": "[encoded data removed]"
    }
   },
   "cell_type": "markdown",
   "id": "20aa4d48",
   "metadata": {},
   "source": [
    "### **The Math Behind Random Forest**\n",
    "\n",
    "### Random Sampling with Replacement\n",
    "\n",
    "` for i in range(X.shape[1]): for t in thresholds: gain = self._information_gain(y, left, right) `\n",
    "\n",
    "Each tree is trained on a different random subset of the data. This introduces diversity between trees, helping reduce overfitting.\n",
    "\n",
    "### Tree Splitting\n",
    "\n",
    "Each decision tree uses binary splits based on thresholds of features.\n",
    "\n",
    "` for i in range(X.shape[1]): `\n",
    "\n",
    "`    for t in thresholds: `\n",
    "\n",
    " `               gain = self._information_gain(y, left, right) `\n",
    "\n",
    "\n",
    "\n",
    "\n",
    "For each feature i, and every unique threshold t, the tree evaluates the information gain:\n",
    "\n",
    "\n",
    "#### Whereby the Information Gain Formula is:\n",
    "\n",
    "![image.png](attachment:image.png)\n",
    "\n",
    "\n",
    "#### Gini Impurity:\n",
    "\n",
    "![image-2.png](attachment:image-2.png)\n",
    "\n",
    "Whereby;\n",
    "\n",
    "- 𝑝\n",
    "𝑖\n",
    "p \n",
    "i\n",
    "​\n",
    " : Proportion of class \n",
    "𝑖\n",
    "i in the node.\n",
    "\n",
    "- Lower Gini = purer node = better split.\n",
    "\n",
    "### Voting\n",
    "\n",
    "` tree_preds = [tree.predict(X) for tree in self.trees] `\n",
    "\n",
    "` y_pred = [most_common(row) for row in zip(*tree_preds)] `\n",
    "\n",
    "Each tree casts a vote (predicts 0 or 1 for rain). The final prediction is:\n",
    "\n",
    "![image-3.png](attachment:image-3.png)\n",
    "\n",
    "The majority class prevails in what is known as \"hard voting.\"\n",
    "\n",
    "In actual use, this improves generalization by reducing variation and smoothing out noise.\n",
    "\n"
   ]
  },
  {
   "cell_type": "code",
   "execution_count": 11,
   "id": "4434bdea",
   "metadata": {},
   "outputs": [],
   "source": [
    "# Import libraries\n",
    "\n",
    "from collections import Counter\n",
    "from sklearn.model_selection import train_test_split"
   ]
  },
  {
   "cell_type": "code",
   "execution_count": 12,
   "id": "a70b56e5",
   "metadata": {},
   "outputs": [],
   "source": [
    "class DecisionTree:\n",
    "    def __init__(self, max_depth=10, min_samples_split=2):\n",
    "        self.max_depth = max_depth\n",
    "        self.min_samples_split = min_samples_split\n",
    "        self.tree = None\n",
    "\n",
    "    def fit(self, X, y):\n",
    "        self.tree = self._build_tree(np.array(X), np.array(y))\n",
    "\n",
    "    def predict(self, X):\n",
    "        return [self._traverse_tree(x, self.tree) for x in X]\n",
    "\n",
    "    def _build_tree(self, X, y, depth=0):\n",
    "        n_samples, n_features = X.shape\n",
    "        n_labels = len(np.unique(y))\n",
    "\n",
    "        if (depth >= self.max_depth or n_labels == 1 or n_samples < self.min_samples_split):\n",
    "            leaf_value = self._most_common_label(y)\n",
    "            return leaf_value\n",
    "\n",
    "        best_feat, best_thresh = self._best_split(X, y)\n",
    "        if best_feat is None:\n",
    "            return self._most_common_label(y)\n",
    "\n",
    "        left_idxs = X[:, best_feat] < best_thresh\n",
    "        right_idxs = ~left_idxs\n",
    "\n",
    "        left = self._build_tree(X[left_idxs], y[left_idxs], depth + 1)\n",
    "        right = self._build_tree(X[right_idxs], y[right_idxs], depth + 1)\n",
    "        return (best_feat, best_thresh, left, right)\n",
    "\n",
    "    def _best_split(self, X, y):\n",
    "        best_gain = -1\n",
    "        split_idx, split_thresh = None, None\n",
    "\n",
    "        for i in range(X.shape[1]):\n",
    "            thresholds = np.unique(X[:, i])\n",
    "            for t in thresholds:\n",
    "                left = y[X[:, i] < t]\n",
    "                right = y[X[:, i] >= t]\n",
    "\n",
    "                if len(left) == 0 or len(right) == 0:\n",
    "                    continue\n",
    "\n",
    "                gain = self._information_gain(y, left, right)\n",
    "                if gain > best_gain:\n",
    "                    best_gain = gain\n",
    "                    split_idx = i\n",
    "                    split_thresh = t\n",
    "        return split_idx, split_thresh\n",
    "\n",
    "    def _information_gain(self, parent, left, right):\n",
    "        weight_l = len(left) / len(parent)\n",
    "        weight_r = len(right) / len(parent)\n",
    "        gain = self._gini(parent) - (weight_l * self._gini(left) + weight_r * self._gini(right))\n",
    "        return gain\n",
    "\n",
    "    def _gini(self, y):\n",
    "        counts = np.bincount(y)\n",
    "        probs = counts / len(y)\n",
    "        return 1 - np.sum(probs ** 2)\n",
    "\n",
    "    def _most_common_label(self, y):\n",
    "        return Counter(y).most_common(1)[0][0]\n",
    "\n",
    "    def _traverse_tree(self, x, node):\n",
    "        if not isinstance(node, tuple):\n",
    "            return node\n",
    "        feature, threshold, left, right = node\n",
    "        if x[feature] < threshold:\n",
    "            return self._traverse_tree(x, left)\n",
    "        else:\n",
    "            return self._traverse_tree(x, right)\n"
   ]
  },
  {
   "cell_type": "code",
   "execution_count": 13,
   "id": "fc24176e",
   "metadata": {},
   "outputs": [],
   "source": [
    "class RandomForest:\n",
    "    def __init__(self, n_trees=10, max_depth=10, min_samples_split=2):\n",
    "        self.n_trees = n_trees\n",
    "        self.max_depth = max_depth\n",
    "        self.min_samples_split = min_samples_split\n",
    "        self.trees = []\n",
    "\n",
    "    def fit(self, X, y):\n",
    "        self.trees = []\n",
    "        for _ in range(self.n_trees):\n",
    "            X_sample, y_sample = self._bootstrap_sample(X, y)\n",
    "            tree = DecisionTree(max_depth=self.max_depth, min_samples_split=self.min_samples_split)\n",
    "            tree.fit(X_sample, y_sample)\n",
    "            self.trees.append(tree)\n",
    "\n",
    "    def predict(self, X):\n",
    "        tree_preds = np.array([tree.predict(X) for tree in self.trees])\n",
    "        tree_preds = np.swapaxes(tree_preds, 0, 1)\n",
    "        y_pred = [Counter(row).most_common(1)[0][0] for row in tree_preds]\n",
    "        return y_pred\n",
    "\n",
    "    def _bootstrap_sample(self, X, y):\n",
    "        n_samples = X.shape[0]\n",
    "        indices = np.random.choice(n_samples, n_samples, replace=True)\n",
    "        return X[indices], y[indices]\n"
   ]
  },
  {
   "cell_type": "code",
   "execution_count": 14,
   "id": "198edf38",
   "metadata": {},
   "outputs": [
    {
     "name": "stdout",
     "output_type": "stream",
     "text": [
      "Custom Random Forest Accuracy: 0.9234972677595629\n"
     ]
    }
   ],
   "source": [
    "# Convert precipitation to binary class: rain or no rain\n",
    "df['rain'] = (df['precipitation'] > 0).astype(int)\n",
    "\n",
    "# Select features and target\n",
    "features = ['max_temp', 'min_temp', 'humidity', 'wind_speed', 'pressure', 'solar_radiation']\n",
    "X = df[features].values\n",
    "y = df['rain'].values\n",
    "\n",
    "# Train/test split\n",
    "X_train, X_test, y_train, y_test = train_test_split(X, y, test_size=0.2, random_state=42)\n",
    "\n",
    "# Train Random Forest\n",
    "rf = RandomForest(n_trees=5, max_depth=10)\n",
    "rf.fit(X_train, y_train)\n",
    "\n",
    "# Predict and evaluate\n",
    "y_pred = rf.predict(X_test)\n",
    "accuracy = np.mean(y_pred == y_test)\n",
    "print(\"Custom Random Forest Accuracy:\", accuracy)\n"
   ]
  },
  {
   "cell_type": "markdown",
   "id": "efe81d24",
   "metadata": {},
   "source": [
    "The model has an Accuracy of **93%**, which is pretty good. However let us dive deeper with further evaluations."
   ]
  },
  {
   "cell_type": "markdown",
   "id": "505f5fe0",
   "metadata": {},
   "source": [
    "### Evaluating the Model with Confusion Matix"
   ]
  },
  {
   "cell_type": "code",
   "execution_count": 15,
   "id": "1239c824",
   "metadata": {},
   "outputs": [
    {
     "name": "stdout",
     "output_type": "stream",
     "text": [
      "[[  0  25]\n",
      " [  3 338]]\n"
     ]
    }
   ],
   "source": [
    "from sklearn.metrics import confusion_matrix\n",
    "print(confusion_matrix(y_test, y_pred))\n"
   ]
  },
  {
   "cell_type": "markdown",
   "id": "959f1fed",
   "metadata": {},
   "source": [
    "**Interpretation of Model Evaluation Results**\n",
    "\n",
    "With just one false negative, the model hardly ever misses real rain.\n",
    "\n",
    "However, it regularly makes  positive predictions about rain when none actually occurs (25 false positives).\n",
    "\n",
    "Perhaps as a result of the dataset's imbalance (more wet days than dry ones), it appears to be skewed toward forecasting rain.\n",
    "\n",
    "_______"
   ]
  },
  {
   "cell_type": "markdown",
   "id": "caeffb67",
   "metadata": {},
   "source": [
    "## **Conclusion and Final Notes**\n",
    "\n",
    "In this notebook, a custom Random Forest model was built to predict rainfall using Texas weather data. The coding structure and the mathematical concepts behind Random Forests we looked at which a deeper understandingvof ensemble learning.\n",
    "\n",
    "### Final Notes\n",
    "\n",
    "- A custom Decision Tree was built using Gini impurity and information gain to perform splits.\n",
    "\n",
    "- The Random Forest combined predictions from multiple decision trees trained on bootstrapped datasets, improving generalization and reducing overfitting.\n",
    "\n",
    "- The final model achieved strong accuracy, with:\n",
    "\n",
    "    - Very few false negatives ( it rarely missed actual rainfall),\n",
    "\n",
    "    - But some false positives, indicating a slight bias toward over-predicting rain."
   ]
  }
 ],
 "metadata": {
  "kernelspec": {
   "display_name": ".venv",
   "language": "python",
   "name": "python3"
  },
  "language_info": {
   "codemirror_mode": {
    "name": "ipython",
    "version": 3
   },
   "file_extension": ".py",
   "mimetype": "text/x-python",
   "name": "python",
   "nbconvert_exporter": "python",
   "pygments_lexer": "ipython3",
   "version": "3.11.0"
  }
 },
 "nbformat": 4,
 "nbformat_minor": 5
}
